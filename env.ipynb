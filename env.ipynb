{
 "cells": [
  {
   "cell_type": "code",
   "execution_count": 86,
   "metadata": {},
   "outputs": [
    {
     "data": {
      "text/html": [
       "<style>.container { width:100% !important; }</style>"
      ],
      "text/plain": [
       "<IPython.core.display.HTML object>"
      ]
     },
     "metadata": {},
     "output_type": "display_data"
    }
   ],
   "source": [
    "import torch\n",
    "import pandas as pd\n",
    "import math\n",
    "import random\n",
    "import numpy as np\n",
    "from IPython.display import display, HTML\n",
    "display(HTML(\"<style>.container { width:100% !important; }</style>\"))\n",
    "\n",
    "%run ./ast_parser.ipynb"
   ]
  },
  {
   "cell_type": "code",
   "execution_count": 127,
   "metadata": {},
   "outputs": [
    {
     "name": "stdout",
     "output_type": "stream",
     "text": [
      "8\n"
     ]
    }
   ],
   "source": [
    "class EnvManager():\n",
    "    def __init__(self, device):\n",
    "        self.device = device\n",
    "        self.all_episodes_df = pd.DataFrame()\n",
    "        self.episodes = pd.read_json(\"./data/data.json\")\n",
    "        for index, episode in self.episodes.iterrows():\n",
    "            states = code2states(episode[\"code\"], episode[\"critical_positions\"], episode[\"labels\"])\n",
    "            \n",
    "            states = pd.DataFrame(states)\n",
    "            states[\"episode_num\"] = index\n",
    "            self.all_episodes_df = pd.concat([self.all_episodes_df,states],axis=0, ignore_index=True)\n",
    "\n",
    "        self.action_space = self.all_episodes_df[\"label\"].unique()\n",
    "        self.action_space_shape = len(self.action_space)\n",
    "        self.state_space_shape = len(self.all_episodes_df.columns)\n",
    "        for cloumn in self.all_episodes_df.columns:\n",
    "            if cloumn != \"level\" and cloumn != \"label\" and cloumn != \"episode_num\":\n",
    "                for index,item in enumerate(self.all_episodes_df[cloumn]):\n",
    "                    if not isinstance(self.all_episodes_df.loc[index,cloumn],str) and not isinstance(self.all_episodes_df.loc[index,cloumn],list) and math.isnan(self.all_episodes_df.loc[index,cloumn]):\n",
    "                        self.all_episodes_df.loc[index,cloumn] = None\n",
    "                    else:\n",
    "                        self.all_episodes_df.loc[index,cloumn] = type(item)\n",
    "                self.all_episodes_df[cloumn] = pd.Categorical(self.all_episodes_df[cloumn])\n",
    "                self.all_episodes_df[cloumn] = self.all_episodes_df[cloumn].cat.codes\n",
    "                \n",
    "        ## Init the env\n",
    "        self.done = False # Set to true when the agent traverse the whole code\n",
    "        self.current_episode = None # Index of the current episode\n",
    "        self.current_state = None # current state\n",
    "        self.current_state_index = None ## State index\n",
    "        self.right_actions = [] # Store the right action for each node\n",
    "        self.critical_parts = [] # Indeces of the ndoes with problems in the tree\n",
    "        self.tree = [] # A list containing all the nodes in the current episode\n",
    "        \n",
    "    ## Reset the env\n",
    "    def reset(self):\n",
    "        self.right_actions = []\n",
    "        self.current_state_index = 0\n",
    "        self.current_episode = None\n",
    "        self.done = False\n",
    "        \n",
    "        ## Get a random episode\n",
    "        allepisodes = self.all_episodes_df[\"episode_num\"].unique() ## Retrieve the ID(num) of the available episodes.\n",
    "        random_episode_num = random.choice(allepisodes) ## Choose a random episode-id\n",
    "        self.current_episode = self.all_episodes_df.loc[self.all_episodes_df[\"episode_num\"] == random_episode_num] # Retrieve all states for the selected episodes.\n",
    "        self.current_episode = self.current_episode.sort_values(\"level\") # Sort the states of the selected episode\n",
    "        self.current_state_index = 0 # set the current state index to 0\n",
    "        self.current_state = self.current_episode # Init the current state\n",
    "        self.current_state = self.current_state.drop([\"label\"],axis=1).iloc[self.current_state_index,:].to_numpy() # Transform the state to numpy array without the label column\n",
    "        \n",
    "\n",
    "    # Map action state to a reward\n",
    "    def take_action(self, action):\n",
    "        # Get the string representaiton of the tensor\n",
    "        selectedAction = self.action_space[action.item()] \n",
    "        ## Compare the selected action with the entered action\n",
    "        ## Reward +1 if it is correct\n",
    "        ## Reward -1 if it is wrong\n",
    "        if self.current_episode[\"label\"].iloc[self.current_state_index] == selectedAction: \n",
    "            reward = +1\n",
    "        else:\n",
    "            reward = -1\n",
    "        if self.current_state_index == len(self.current_episode.index) - 1:\n",
    "            self.done = True\n",
    "        else:\n",
    "            self.current_state_index = self.current_state_index + 1\n",
    "        \n",
    "        return torch.tensor([reward], device=self.device)\n",
    "\n",
    " \n",
    "    def get_state(self):\n",
    "        if self.done:\n",
    "            return torch.zeros_like(\n",
    "                torch.tensor(self.current_state), device=self.device\n",
    "            ).float()\n",
    "        else:\n",
    "            return torch.tensor(self.current_state, device=self.device).float()\n",
    "\n",
    "    # Get the number of actions available for the agent\n",
    "    def num_actions_available(self):\n",
    "        return len(self.action_space)\n",
    "\n",
    "    def num_state_features(self):\n",
    "        return self.state_space_shape"
   ]
  },
  {
   "cell_type": "code",
   "execution_count": 128,
   "metadata": {},
   "outputs": [
    {
     "name": "stdout",
     "output_type": "stream",
     "text": [
      "\n"
     ]
    }
   ],
   "source": [
    "device = torch.device(\"cuda\" if torch.cuda.is_available() else \"cpu\")\n",
    "\n",
    "env = EnvManager(device)\n",
    "env.reset()\n",
    "env.get_state()\n",
    "env.take_action(torch.tensor([0]))\n",
    "print()"
   ]
  },
  {
   "cell_type": "code",
   "execution_count": null,
   "metadata": {},
   "outputs": [],
   "source": []
  }
 ],
 "metadata": {
  "interpreter": {
   "hash": "6dcb98b0cb66e7bb516e35d61dc361f03b9d6b6239965800e2e49f08121a080a"
  },
  "kernelspec": {
   "display_name": "Python 3.10.4 64-bit (windows store)",
   "language": "python",
   "name": "python3"
  },
  "language_info": {
   "codemirror_mode": {
    "name": "ipython",
    "version": 3
   },
   "file_extension": ".py",
   "mimetype": "text/x-python",
   "name": "python",
   "nbconvert_exporter": "python",
   "pygments_lexer": "ipython3",
   "version": "3.10.4"
  },
  "orig_nbformat": 4
 },
 "nbformat": 4,
 "nbformat_minor": 2
}
