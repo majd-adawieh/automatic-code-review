{
 "cells": [
  {
   "cell_type": "code",
   "execution_count": 1,
   "metadata": {},
   "outputs": [
    {
     "name": "stderr",
     "output_type": "stream",
     "text": [
      "C:\\Users\\majda\\AppData\\Local\\Packages\\PythonSoftwareFoundation.Python.3.10_qbz5n2kfra8p0\\LocalCache\\local-packages\\Python310\\site-packages\\tqdm\\auto.py:22: TqdmWarning: IProgress not found. Please update jupyter and ipywidgets. See https://ipywidgets.readthedocs.io/en/stable/user_install.html\n",
      "  from .autonotebook import tqdm as notebook_tqdm\n"
     ]
    }
   ],
   "source": [
    "import torch\n",
    "import pandas as pd\n",
    "import ast\n",
    "import numpy as np"
   ]
  },
  {
   "cell_type": "code",
   "execution_count": 2,
   "metadata": {},
   "outputs": [],
   "source": [
    "def str_node(node, info, level):\n",
    "    info[\"level\"] = level\n",
    "    if isinstance(node, ast.AST):\n",
    "        for name, val in ast.iter_fields(node):\n",
    "                if \"ast\" in str(val):\n",
    "                    info[name] = None\n",
    "                else:\n",
    "                    info[name] = val\n",
    "        fields = [(name, str_node(val,info,level)) for name, val in ast.iter_fields(node) if name not in ('left', 'right')]\n",
    "        info[\"type\"] = node.__class__.__name__\n",
    "        rv = '%s(%s' % (node.__class__.__name__, ', '.join('%s=%s' % field for field in fields))\n",
    "        return rv + ')'\n",
    "    else:\n",
    "        return repr(node)\n",
    "\n",
    "def ast_visit(node, state_types,level=0):\n",
    "    info = {}\n",
    "    str_node(node,info, level )    \n",
    "    state_types.append(info)\n",
    "    for field, value in ast.iter_fields(node):\n",
    "        if isinstance(value, list):\n",
    "            for item in value:\n",
    "                if isinstance(item, ast.AST):\n",
    "                    ast_visit(item,state_types, level=level+1)\n",
    "        elif isinstance(value, ast.AST):\n",
    "            ast_visit(value,state_types, level=level+1)"
   ]
  },
  {
   "cell_type": "code",
   "execution_count": 25,
   "metadata": {},
   "outputs": [
    {
     "data": {
      "text/plain": [
       "13"
      ]
     },
     "execution_count": 25,
     "metadata": {},
     "output_type": "execute_result"
    }
   ],
   "source": [
    "# state = { type ,  valueType, }\n",
    "\n",
    "class EnvManager():\n",
    "    def __init__(self, device):\n",
    "        self.device = device\n",
    "        ## Load all the episodes\n",
    "        self.episodes = pd.read_json(\"./data/data.json\")\n",
    "        ## Extract all possible labels from the episodes\n",
    "        ## They represent the output of the DQN-Agent\n",
    "        self.action_space = self.episodes[\"label\"].unique().tolist()\n",
    "        self.action_space.append(\"Ok\")\n",
    "        \n",
    "        ## Get all possible states from the episodes\n",
    "        states = []\n",
    "        for index, episode in self.episodes.iterrows():\n",
    "            ast_visit(ast.parse(episode[\"code\"]), states)\n",
    "        states = pd.DataFrame(states)\n",
    "\n",
    "        self.state_space_shape = len(states.columns)\n",
    "\n",
    "        for index,item in enumerate(states[\"value\"]):\n",
    "            states.loc[index,\"value\"] = type(item)\n",
    "\n",
    " \n",
    "     \n",
    "\n",
    "        ## Init the env\n",
    "        self.done = False # Set to true when the agent traverse the whole code\n",
    "        self.current_episode = None # Index of the current episode\n",
    "        self.current_state = None # current state\n",
    "        self.current_state_index = None ## State index\n",
    "        self.right_actions = [] # Store the right action for each node\n",
    "        self.critical_parts = [] # Indeces of the ndoes with problems in the tree\n",
    "        self.tree = [] # A list containing all the nodes in the current episode\n",
    "        \n",
    "    ## Reset the env\n",
    "    def reset(self):\n",
    "        self.tree = []\n",
    "        self.critical_parts = []\n",
    "        self.right_actions = []\n",
    "        self.current_state_index = 0\n",
    "        self.current_episode = None\n",
    "        self.done = False\n",
    "        \n",
    "        self.current_episode = self.episodes.sample() # Get a random episode\n",
    "        ast_visit(ast.parse(self.current_episode[\"code\"].iloc[0]), self.tree) # Traverse the code and store the nodes in a list \n",
    "        self.critical_parts =  self.current_episode[\"critical\"].iloc[0] # Nodes with problems\n",
    "        self.create_right_actions_table() # Generate a list with the right action for each node\n",
    "        \n",
    "    \n",
    "    ## Create a list with the right action to take for each node\n",
    "    def create_right_actions_table(self):\n",
    "        self.right_actions = [\"Ok\"] * len(self.tree)\n",
    "        for index, node in enumerate(self.tree):\n",
    "            if index in self.critical_parts:\n",
    "                self.right_actions[index] = self.current_episode[\"label\"].iloc[0]\n",
    "\n",
    "    # Map action state to a reward\n",
    "    def take_action(self, action):\n",
    "        # Get the string representaiton of the tensor\n",
    "        selectedAction = self.action_space[action.item()] \n",
    "        ## Compare the selected action with the entered action\n",
    "        ## Reward +1 if it is correct\n",
    "        ## Reward -1 if it is wrong\n",
    "        if self.right_actions[self.current_state_index] == selectedAction: \n",
    "            reward = +1\n",
    "        else:\n",
    "            reward = -1\n",
    "        if self.current_state_index == len(self.tree) - 1:\n",
    "            self.done = True\n",
    "        else:\n",
    "            self.current_state_index = self.current_state_index + 1\n",
    "        \n",
    "        return torch.tensor([reward], device=self.device)\n",
    "\n",
    " \n",
    "    def get_state(self):\n",
    "        if self.done:\n",
    "            return torch.zeros_like(\n",
    "                torch.tensor(self.current_state), device=self.device\n",
    "            ).float()\n",
    "        else:\n",
    "            return torch.tensor(self.current_state, device=self.device).float()\n",
    "\n",
    "    # Get the number of actions available for the agent\n",
    "    def num_actions_available(self):\n",
    "        return len(self.action_space)\n",
    "\n",
    "    def num_state_features(self):\n",
    "        return self.state_space_shape\n",
    "\n",
    "\n",
    "device = torch.device(\"cuda\" if torch.cuda.is_available() else \"cpu\")\n",
    "\n",
    "env = EnvManager(device)\n",
    "env.reset()\n",
    "env.num_state_features()\n"
   ]
  },
  {
   "cell_type": "code",
   "execution_count": null,
   "metadata": {},
   "outputs": [],
   "source": []
  }
 ],
 "metadata": {
  "interpreter": {
   "hash": "6dcb98b0cb66e7bb516e35d61dc361f03b9d6b6239965800e2e49f08121a080a"
  },
  "kernelspec": {
   "display_name": "Python 3.10.4 64-bit (windows store)",
   "language": "python",
   "name": "python3"
  },
  "language_info": {
   "codemirror_mode": {
    "name": "ipython",
    "version": 3
   },
   "file_extension": ".py",
   "mimetype": "text/x-python",
   "name": "python",
   "nbconvert_exporter": "python",
   "pygments_lexer": "ipython3",
   "version": "3.10.4"
  },
  "orig_nbformat": 4
 },
 "nbformat": 4,
 "nbformat_minor": 2
}
