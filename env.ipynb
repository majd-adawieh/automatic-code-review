{
 "cells": [
  {
   "cell_type": "code",
   "execution_count": null,
   "metadata": {},
   "outputs": [],
   "source": [
    "import gym\n",
    "import torch\n",
    "\n",
    "\n",
    "class EnvManager():\n",
    "    def __init__(self, device, env_name):\n",
    "        self.device = device\n",
    "        self.env = gym.make(env_name).unwrapped\n",
    "        self.env.reset()\n",
    "        self.done = False\n",
    "        self.current_state = None\n",
    "\n",
    "    def reset(self):\n",
    "        self.current_state = self.env.reset()\n",
    "\n",
    "    def take_action(self, action):\n",
    "        self.current_state, reward, self.done, _ = self.env.step(action.item())\n",
    "        return torch.tensor([reward], device=self.device)\n",
    "\n",
    "    def num_state_features(self):\n",
    "        return self.env.observation_space.shape[0]\n",
    "\n",
    "    def get_state(self):\n",
    "        if self.done:\n",
    "            return torch.zeros_like(\n",
    "                torch.tensor(self.current_state), device=self.device\n",
    "            ).float()\n",
    "        else:\n",
    "            return torch.tensor(self.current_state, device=self.device).float()\n",
    "\n",
    "    def num_actions_available(self):\n",
    "        return self.env.action_space.n\n"
   ]
  }
 ],
 "metadata": {
  "language_info": {
   "name": "python"
  },
  "orig_nbformat": 4
 },
 "nbformat": 4,
 "nbformat_minor": 2
}
