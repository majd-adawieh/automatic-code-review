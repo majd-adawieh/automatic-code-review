{
 "cells": [
  {
   "cell_type": "code",
   "execution_count": 1,
   "metadata": {},
   "outputs": [],
   "source": [
    "import pandas as pd"
   ]
  },
  {
   "cell_type": "code",
   "execution_count": 2,
   "metadata": {},
   "outputs": [],
   "source": [
    "info = []\n",
    "\n",
    "with open(\"./data/python_best_practices.md\") as file:\n",
    "    content = file.read()\n",
    "    info = content.split(\"### \")\n",
    "    del info[0]\n",
    "\n",
    "\n",
    "comments = []\n",
    "subcomments = []\n",
    "badPractices = []\n",
    "goodPractices = []\n",
    "\n",
    "\n",
    "for item in info:\n",
    "    if \"**Bad:**\" in item and \"**Good:**\" in item:\n",
    "        comment = item.split(\"\\n\")[0]\n",
    "        subcomment = item.split(\"\\n\")[2].split(\"**\")[0]\n",
    "        bad = item.split(\"**Bad:**\")[1].split(\"**Good:**\")[0].replace(\"javascript\",\"\").replace(\"```\",\"\").replace('\"\"','\"')\n",
    "        good = item.split(\"**Good:**\")[1].split(\"**\")[0].replace(\"javascript\",\"\").replace(\"```\",\"\").replace('\"\"','\"')\n",
    "\n",
    "        comments.append(comment)\n",
    "        subcomments.append(subcomment)\n",
    "        badPractices.append(bad)\n",
    "        goodPractices.append(good)\n",
    "\n",
    "dictionary = {\n",
    "    \"Comments\": comments,\n",
    "    \"Subcomments\":subcomments,\n",
    "    \"Bad practices\": badPractices,\n",
    "    \"Good practices\": goodPractices\n",
    "}\n",
    "\n",
    "df = pd.DataFrame(dictionary)\n",
    "df.to_csv(\"./data/data1.csv\")"
   ]
  }
 ],
 "metadata": {
  "interpreter": {
   "hash": "6dcb98b0cb66e7bb516e35d61dc361f03b9d6b6239965800e2e49f08121a080a"
  },
  "kernelspec": {
   "display_name": "Python 3.10.4 64-bit (windows store)",
   "language": "python",
   "name": "python3"
  },
  "language_info": {
   "codemirror_mode": {
    "name": "ipython",
    "version": 3
   },
   "file_extension": ".py",
   "mimetype": "text/x-python",
   "name": "python",
   "nbconvert_exporter": "python",
   "pygments_lexer": "ipython3",
   "version": "3.10.4"
  },
  "orig_nbformat": 4
 },
 "nbformat": 4,
 "nbformat_minor": 2
}
