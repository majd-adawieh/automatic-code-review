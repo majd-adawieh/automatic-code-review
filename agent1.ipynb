{
 "cells": [
  {
   "cell_type": "code",
   "execution_count": 16,
   "metadata": {},
   "outputs": [],
   "source": [
    "import numpy as np\n",
    "import torch\n",
    "import torch.nn.functional as F\n",
    "import math\n",
    "from DRQN.network import ADRQN\n",
    "from DRQN.experience_replay import ExpBuffer\n",
    "from DRQN.agent import Agent\n",
    "from DRQN.epsilon_greedy_strategy import EpsilonGreedyStrategy\n",
    "from DRQN.plot import plot, get_moving_average\n",
    "device = torch.device(\"cuda\" if torch.cuda.is_available() else \"cpu\")\n",
    "%run ./env.ipynb"
   ]
  },
  {
   "cell_type": "code",
   "execution_count": 17,
   "metadata": {},
   "outputs": [],
   "source": [
    "import pandas as pd\n",
    "df = pd.DataFrame({'iteration': 0,\"epsiode_num\":0, \"reward\":0}, index=[0])\n",
    "\n"
   ]
  },
  {
   "cell_type": "code",
   "execution_count": 18,
   "metadata": {},
   "outputs": [],
   "source": [
    "def save(model, path):\n",
    "    torch.save(model.state_dict(), path)    \n",
    "\n",
    "def load(path,n_actions,state_size, embedding_size):\n",
    "    model = ADRQN(n_actions,state_size,embedding_size)\n",
    "    model.load_state_dict(torch.load(path))\n",
    "    return model   \n"
   ]
  },
  {
   "cell_type": "code",
   "execution_count": 19,
   "metadata": {},
   "outputs": [],
   "source": [
    "env = EnvManager(device)\n",
    "state_size = env.num_state_features()\n",
    "n_actions = env.num_actions_available()\n"
   ]
  },
  {
   "cell_type": "code",
   "execution_count": 20,
   "metadata": {},
   "outputs": [],
   "source": [
    "embedding_size = 16\n",
    "M_episodes = 2000\n",
    "memory_size = 1000\n",
    "sample_length = 100\n",
    "replay_buffer = ExpBuffer(memory_size, sample_length)\n",
    "batch_size = 8\n",
    "eps_start = 0.9\n",
    "eps = eps_start\n",
    "eps_end = 0.05\n",
    "eps_decay = 10\n",
    "gamma = 0.999\n",
    "learning_rate = 0.001\n",
    "blind_prob = 0\n",
    "EXPLORE = 1000\n",
    "target_update = 100  # Interval for updating the target net"
   ]
  },
  {
   "cell_type": "code",
   "execution_count": 21,
   "metadata": {},
   "outputs": [],
   "source": [
    "strategy = EpsilonGreedyStrategy(eps_start, eps_end, eps_decay)\n",
    "agent = Agent(strategy, n_actions, device)\n",
    "adrqn = ADRQN(n_actions, state_size, embedding_size).cuda()\n",
    "adrqn_target = ADRQN(n_actions, state_size, embedding_size).cuda()\n",
    "adrqn_target.load_state_dict(adrqn.state_dict())\n",
    "optimizer = torch.optim.Adam(adrqn.parameters(), lr=learning_rate)"
   ]
  },
  {
   "cell_type": "code",
   "execution_count": 22,
   "metadata": {},
   "outputs": [],
   "source": [
    "# Load the model\n",
    "model = load(\"./model/model\",n_actions, state_size, embedding_size)\n"
   ]
  },
  {
   "cell_type": "code",
   "execution_count": 26,
   "metadata": {},
   "outputs": [
    {
     "name": "stdout",
     "output_type": "stream",
     "text": [
      "['Special methods should have an expected number of parameters']\n",
      "['Special methods should have an expected number of parameters']\n",
      "['Instance and class methods should have at least one positional parameter']\n",
      "['Instance and class methods should have at least one positional parameter']\n",
      "['Boolean expressions of exceptions should not be used in \"except\" statements']\n",
      "['Boolean expressions of exceptions should not be used in \"except\" statements']\n",
      "['Item operations should be done on objects supporting them']\n",
      "['Item operations should be done on objects supporting them']\n",
      "['Raised Exceptions must derive from BaseException']\n",
      "['Raised Exceptions must derive from BaseException']\n",
      "['Custom Exception classes should inherit from \"Exception\" or one of its subclasses']\n",
      "['Custom Exception classes should inherit from \"Exception\" or one of its subclasses']\n",
      "['\"=+\" should not be used instead of \"+=\"']\n",
      "['\"=+\" should not be used instead of \"+=\"']\n",
      "['All code should be reachable']\n",
      "['All code should be reachable']\n",
      "['\"Exception\" and \"BaseException\" should not be raised']\n",
      "['\"Exception\" and \"BaseException\" should not be raised']\n",
      "['New-style classes should be used']\n",
      "['New-style classes should be used']\n",
      "['Operators should be used on compatible types']\n",
      "['Operators should be used on compatible types']\n",
      "['Function arguments should be passed only once']\n",
      "['Function arguments should be passed only once']\n",
      "['Iterable unpacking, \"for-in\" loops and \"yield from\" should use an Iterable object']\n",
      "['Iterable unpacking, \"for-in\" loops and \"yield from\" should use an Iterable object']\n",
      "['Variables, classes and functions should be defined before being used']\n",
      "['Variables, classes and functions should be defined before being used']\n",
      "['Only strings should be listed in \"__all__\"']\n",
      "['Only strings should be listed in \"__all__\"']\n",
      "['\"__init__\" should not return a value']\n",
      "['\"__init__\" should not return a value']\n",
      "['Calls should not be made to non-callable values']\n",
      "['Calls should not be made to non-callable values']\n",
      "['The \"open\" builtin function should be called with a valid mode']\n",
      "['The \"open\" builtin function should be called with a valid mode']\n",
      "['Only defined names should be listed in \"__all__\"']\n",
      "['Only defined names should be listed in \"__all__\"']\n",
      "['Property getter, setter and deleter methods should have the expected number of parameters']\n",
      "['Property getter, setter and deleter methods should have the expected number of parameters']\n",
      "['Special methods should have an expected number of parameters']\n",
      "['Special methods should have an expected number of parameters']\n",
      "['Instance and class methods should have at least one positional parameter']\n",
      "['Instance and class methods should have at least one positional parameter']\n",
      "['Boolean expressions of exceptions should not be used in \"except\" statements']\n",
      "['Boolean expressions of exceptions should not be used in \"except\" statements']\n",
      "['Item operations should be done on objects supporting them']\n",
      "['Item operations should be done on objects supporting them']\n",
      "['Raised Exceptions must derive from BaseException']\n",
      "['Raised Exceptions must derive from BaseException']\n",
      "['Operators should be used on compatible types']\n",
      "['Operators should be used on compatible types']\n",
      "['Function arguments should be passed only once']\n",
      "['Function arguments should be passed only once']\n",
      "['Iterable unpacking, \"for-in\" loops and \"yield from\" should use an Iterable object']\n",
      "['Iterable unpacking, \"for-in\" loops and \"yield from\" should use an Iterable object']\n",
      "['Variables, classes and functions should be defined before being used']\n",
      "['Variables, classes and functions should be defined before being used']\n",
      "['Only strings should be listed in \"__all__\"']\n",
      "['Only strings should be listed in \"__all__\"']\n",
      "['\"__init__\" should not return a value']\n",
      "['\"__init__\" should not return a value']\n",
      "['Recursion should not be infinite']\n",
      "['Recursion should not be infinite']\n",
      "['Silly equality checks should not be made']\n",
      "['Silly equality checks should not be made']\n",
      "['Exceptions\\' \"__cause__\" should be either an Exception or None']\n",
      "['Exceptions\\' \"__cause__\" should be either an Exception or None']\n",
      "['\"break\" and \"continue\" should not be used outside a loop']\n",
      "['\"break\" and \"continue\" should not be used outside a loop']\n",
      "['Break, continue and return statements should not occur in \"finally\" blocks']\n",
      "['Break, continue and return statements should not occur in \"finally\" blocks']\n",
      "['Collection sizes and array length comparisons should make sense']\n",
      "['Collection sizes and array length comparisons should make sense']\n",
      "['\"=+\" should not be used instead of \"+=\"']\n",
      "['\"=+\" should not be used instead of \"+=\"']\n",
      "['Increment and decrement operators should not be used']\n",
      "['Increment and decrement operators should not be used']\n",
      "['Attributes should not be accessed on \"None\" values']\n",
      "['Related \"if/else if\" statements should not have the same condition']\n",
      "['Related \"if/else if\" statements should not have the same condition']\n",
      "['Related \"if/else if\" statements should not have the same condition']\n",
      "['Identical expressions should not be used on both sides of a binary operator']\n",
      "['Instance and class methods should have at least one positional parameter']\n",
      "['Instance and class methods should have at least one positional parameter']\n",
      "['Instance and class methods should have at least one positional parameter']\n",
      "['Unused assignments should be removed']\n",
      "['Unused assignments should be removed']\n",
      "['Statements should be on separate lines']\n",
      "['Statements should be on separate lines']\n",
      "['NoSQL operations should not be vulnerable to injection attacks']\n",
      "['NoSQL operations should not be vulnerable to injection attacks']\n",
      "['HTTP request redirections should not be open to forging attacks']\n",
      "['HTTP request redirections should not be open to forging attacks']\n",
      "['JWT should be signed and verified']\n",
      "['JWT should be signed and verified']\n",
      "['Weak SSL/TLS protocols should not be used']\n",
      "['Weak SSL/TLS protocols should not be used']\n",
      "['HTTP responses should not be vulnerable to session fixation']\n",
      "['HTTP responses should not be vulnerable to session fixation']\n",
      "['Dynamic code execution should not be vulnerable to injection attacks']\n",
      "['Dynamic code execution should not be vulnerable to injection attacks']\n",
      "['NoSQL operations should not be vulnerable to injection attacks']\n",
      "['NoSQL operations should not be vulnerable to injection attacks']\n",
      "['HTTP request redirections should not be open to forging attacks']\n",
      "['HTTP request redirections should not be open to forging attacks']\n",
      "['Deserialization should not be vulnerable to injection attacks']\n",
      "['Deserialization should not be vulnerable to injection attacks']\n",
      "['Database queries should not be vulnerable to injection attacks']\n",
      "['Database queries should not be vulnerable to injection attacks']\n",
      "['Special methods should have an expected number of parameters']\n",
      "['Special methods should have an expected number of parameters']\n",
      "['Instance and class methods should have at least one positional parameter']\n",
      "0\n"
     ]
    }
   ],
   "source": [
    "rightClassified = 0\n",
    "newDF = pd.DataFrame({\"epsiode_num\":0, \"reward\":0}, index=[0])\n",
    "\n",
    "for j in range(113):\n",
    "    env.reset(j)\n",
    "    last_observation = env.get_state()\n",
    "    episode_duration = 0\n",
    "    last_action = 0\n",
    "    current_return = 0\n",
    "    done = False\n",
    "    while not done:\n",
    "            action, hidden = agent.act(torch.tensor(last_observation).float().view(1, 1, -1).cuda(), F.one_hot(\n",
    "                torch.tensor(last_action), n_actions).view(1, 1, -1).float().cuda(), eps, adrqn, hidden=hidden)\n",
    "\n",
    "            observation, reward, done  = env.take_action(action)\n",
    "            reward = np.sign(reward)\n",
    "            current_return += reward\n",
    "            episode_duration =  episode_duration +1\n",
    "            last_action = action\n",
    "            last_observation = observation \n",
    "            if done:\n",
    "                break\n",
    "\n",
    "    acc = current_return / episode_duration\n",
    "    new_row = pd.DataFrame({\"epsiode_num\": j ,\"reward\":acc}, index=[0])\n",
    "    newDF = pd.concat([newDF,new_row],ignore_index=True)\n",
    "\n",
    "    if (acc >= 0.8):\n",
    "        rightClassified = rightClassified + 1\n",
    "    else:\n",
    "        print(env.get_episode_name())\n",
    "\n",
    "\n",
    "print(rightClassified)"
   ]
  },
  {
   "cell_type": "code",
   "execution_count": 27,
   "metadata": {},
   "outputs": [
    {
     "data": {
      "text/html": [
       "<div>\n",
       "<style scoped>\n",
       "    .dataframe tbody tr th:only-of-type {\n",
       "        vertical-align: middle;\n",
       "    }\n",
       "\n",
       "    .dataframe tbody tr th {\n",
       "        vertical-align: top;\n",
       "    }\n",
       "\n",
       "    .dataframe thead th {\n",
       "        text-align: right;\n",
       "    }\n",
       "</style>\n",
       "<table border=\"1\" class=\"dataframe\">\n",
       "  <thead>\n",
       "    <tr style=\"text-align: right;\">\n",
       "      <th></th>\n",
       "      <th>iteration</th>\n",
       "      <th>epsiode_num</th>\n",
       "      <th>reward</th>\n",
       "    </tr>\n",
       "  </thead>\n",
       "  <tbody>\n",
       "    <tr>\n",
       "      <th>0</th>\n",
       "      <td>0</td>\n",
       "      <td>0</td>\n",
       "      <td>0</td>\n",
       "    </tr>\n",
       "  </tbody>\n",
       "</table>\n",
       "</div>"
      ],
      "text/plain": [
       "   iteration  epsiode_num  reward\n",
       "0          0            0       0"
      ]
     },
     "execution_count": 27,
     "metadata": {},
     "output_type": "execute_result"
    }
   ],
   "source": [
    "df"
   ]
  },
  {
   "cell_type": "code",
   "execution_count": 23,
   "metadata": {},
   "outputs": [],
   "source": [
    "df[\"iteration\"].to_csv(\"data.csv\",index=False)"
   ]
  },
  {
   "cell_type": "code",
   "execution_count": 28,
   "metadata": {},
   "outputs": [],
   "source": [
    "newDF[\"reward\"].to_csv(\"data1.csv\",index=False)"
   ]
  },
  {
   "cell_type": "code",
   "execution_count": null,
   "metadata": {},
   "outputs": [],
   "source": []
  }
 ],
 "metadata": {
  "interpreter": {
   "hash": "6dcb98b0cb66e7bb516e35d61dc361f03b9d6b6239965800e2e49f08121a080a"
  },
  "kernelspec": {
   "display_name": "Python 3.10.4 64-bit (windows store)",
   "language": "python",
   "name": "python3"
  },
  "language_info": {
   "codemirror_mode": {
    "name": "ipython",
    "version": 3
   },
   "file_extension": ".py",
   "mimetype": "text/x-python",
   "name": "python",
   "nbconvert_exporter": "python",
   "pygments_lexer": "ipython3",
   "version": "3.10.5"
  },
  "orig_nbformat": 4
 },
 "nbformat": 4,
 "nbformat_minor": 2
}
