{
 "cells": [
  {
   "cell_type": "code",
   "execution_count": 1,
   "metadata": {},
   "outputs": [
    {
     "name": "stderr",
     "output_type": "stream",
     "text": [
      "C:\\Users\\majda\\AppData\\Local\\Packages\\PythonSoftwareFoundation.Python.3.10_qbz5n2kfra8p0\\LocalCache\\local-packages\\Python310\\site-packages\\tqdm\\auto.py:22: TqdmWarning: IProgress not found. Please update jupyter and ipywidgets. See https://ipywidgets.readthedocs.io/en/stable/user_install.html\n",
      "  from .autonotebook import tqdm as notebook_tqdm\n"
     ]
    }
   ],
   "source": [
    "import numpy as np\n",
    "import torch\n",
    "import torch.nn.functional as F\n",
    "import math\n",
    "from DRQN.network import ADRQN\n",
    "from DRQN.experience_replay import ExpBuffer\n",
    "from DRQN.agent import Agent\n",
    "from DRQN.epsilon_greedy_strategy import EpsilonGreedyStrategy\n",
    "from DRQN.plot import plot, get_moving_average\n",
    "\n",
    "device = torch.device(\"cuda\" if torch.cuda.is_available() else \"cpu\")\n",
    "%run ./env.ipynb"
   ]
  },
  {
   "cell_type": "code",
   "execution_count": 14,
   "metadata": {},
   "outputs": [],
   "source": [
    "def save(model, path):\n",
    "    torch.save(model.state_dict(), path)    \n",
    "\n",
    "def load(path,n_actions,state_size, embedding_size):\n",
    "    model = ADRQN(n_actions,state_size,embedding_size)\n",
    "    model.load_state_dict(torch.load(path))\n",
    "    return model   \n"
   ]
  },
  {
   "cell_type": "code",
   "execution_count": 3,
   "metadata": {},
   "outputs": [],
   "source": [
    "env = EnvManager(device)\n",
    "state_size = env.num_state_features()\n",
    "n_actions = env.num_actions_available()"
   ]
  },
  {
   "cell_type": "code",
   "execution_count": 4,
   "metadata": {},
   "outputs": [],
   "source": [
    "embedding_size = 8\n",
    "M_episodes = 100\n",
    "memory_size = 1000\n",
    "sample_length = 3\n",
    "replay_buffer = ExpBuffer(memory_size, sample_length)\n",
    "batch_size = 8\n",
    "eps_start = 0.9\n",
    "eps = eps_start\n",
    "eps_end = 0.05\n",
    "eps_decay = 10\n",
    "gamma = 0.999\n",
    "learning_rate = 0.001\n",
    "blind_prob = 0\n",
    "EXPLORE = 50\n",
    "target_update = 5  # Interval for updating the target net"
   ]
  },
  {
   "cell_type": "code",
   "execution_count": 5,
   "metadata": {},
   "outputs": [
    {
     "name": "stdout",
     "output_type": "stream",
     "text": [
      "INIT THE NETWORK\n",
      "INIT THE NETWORK\n"
     ]
    }
   ],
   "source": [
    "strategy = EpsilonGreedyStrategy(eps_start, eps_end, eps_decay)\n",
    "agent = Agent(strategy, n_actions, device)\n",
    "adrqn = ADRQN(n_actions, state_size, embedding_size).cuda()\n",
    "adrqn_target = ADRQN(n_actions, state_size, embedding_size).cuda()\n",
    "adrqn_target.load_state_dict(adrqn.state_dict())\n",
    "optimizer = torch.optim.Adam(adrqn.parameters(), lr=learning_rate)"
   ]
  },
  {
   "cell_type": "code",
   "execution_count": 6,
   "metadata": {},
   "outputs": [
    {
     "name": "stdout",
     "output_type": "stream",
     "text": [
      "[6 6 6 6 6 6 6 6 6 6 6 6 6 6 6 6 6 6 6 6 6 6 6 6 6 6 6 6 6 6 6 6 6 6 6 6 6\n",
      " 6 6 6 6 6 6 6 6 6 6 6 6 6 6 6 6 6 6 6 6 6 6 6 6 6 6 6 6 6 6 6 6 6 6 6 6 6\n",
      " 6 6 6 6 6 6 6 6 6 6 6 6 6 6 6 6 6 6 6 6 6 6 6 6 6 6]\n",
      "6.0\n"
     ]
    }
   ],
   "source": [
    "episode_durations = []\n",
    "\n",
    "for episode in range(M_episodes):\n",
    "    done = False\n",
    "    hidden = None\n",
    "    last_action = 0\n",
    "    current_return = 0\n",
    "    env.reset()\n",
    "    last_observation = env.get_state()\n",
    "    while not done:\n",
    "        action, hidden = agent.act(torch.tensor(last_observation).float().view(1, 1, -1).cuda(), F.one_hot(\n",
    "            torch.tensor(last_action), n_actions).view(1, 1, -1).float().cuda(), eps, adrqn, hidden=hidden)\n",
    "\n",
    "        observation, reward, done  = env.take_action(action)\n",
    "        if np.random.rand() < blind_prob:\n",
    "            # Induce partial observability\n",
    "            observation = np.zeros_like(observation)\n",
    "\n",
    "        reward = np.sign(reward)\n",
    "        current_return += reward\n",
    "        replay_buffer.write_tuple(\n",
    "            (last_action, last_observation, action, reward, observation, done))\n",
    "\n",
    "        last_action = action\n",
    "        last_observation = observation\n",
    "\n",
    "        # Updating Networks\n",
    "        if episode > EXPLORE:\n",
    "            eps = eps_end + (eps_start - eps_end) * \\\n",
    "                math.exp((-1*(episode-EXPLORE))/eps_decay)\n",
    "\n",
    "            last_actions, last_observations, actions, rewards, observations, dones = replay_buffer.sample(\n",
    "                batch_size)\n",
    "            q_values, _ = adrqn.forward(\n",
    "                last_observations, F.one_hot(last_actions, n_actions).float())\n",
    "            q_values = torch.gather(\n",
    "                q_values, -1, actions.unsqueeze(-1)).squeeze(-1)\n",
    "            predicted_q_values, _ = adrqn_target.forward(\n",
    "                observations, F.one_hot(actions, n_actions).float())\n",
    "            target_values = rewards + \\\n",
    "                (gamma * (1 - dones.float()) *\n",
    "                 torch.max(predicted_q_values, dim=-1)[0])\n",
    "\n",
    "            # Update network parameters\n",
    "            optimizer.zero_grad()\n",
    "            loss = torch.nn.MSELoss()(q_values, target_values.detach())\n",
    "            loss.backward()\n",
    "            optimizer.step()\n",
    "\n",
    "        if done:\n",
    "            episode_durations.append(current_return)\n",
    "            #plot(episode_durations, 10)\n",
    "            break\n",
    "\n",
    "    if episode % target_update == 0:\n",
    "        adrqn_target.load_state_dict(adrqn.state_dict())\n",
    "\n",
    "    if get_moving_average(10, episode_durations)[-1] >= 8:\n",
    "        break\n",
    "\n",
    "l = np.array(episode_durations)\n",
    "print(l)\n",
    "print(np.average(l))"
   ]
  },
  {
   "cell_type": "code",
   "execution_count": 12,
   "metadata": {},
   "outputs": [],
   "source": [
    "## Save the model\n",
    "save(adrqn,\"./model/model\")"
   ]
  },
  {
   "cell_type": "code",
   "execution_count": 15,
   "metadata": {},
   "outputs": [
    {
     "name": "stdout",
     "output_type": "stream",
     "text": [
      "INIT THE NETWORK\n",
      "ADRQN(\n",
      "  (embedder): Linear(in_features=1, out_features=8, bias=True)\n",
      "  (obs_layer): Linear(in_features=12, out_features=16, bias=True)\n",
      "  (obs_layer2): Linear(in_features=16, out_features=32, bias=True)\n",
      "  (lstm): LSTM(40, 128, batch_first=True)\n",
      "  (out_layer): Linear(in_features=128, out_features=1, bias=True)\n",
      ")\n"
     ]
    }
   ],
   "source": [
    "# Load the model\n",
    "model = load(\"./model/model\",n_actions, state_size, embedding_size)\n"
   ]
  },
  {
   "cell_type": "code",
   "execution_count": null,
   "metadata": {},
   "outputs": [],
   "source": []
  }
 ],
 "metadata": {
  "interpreter": {
   "hash": "6dcb98b0cb66e7bb516e35d61dc361f03b9d6b6239965800e2e49f08121a080a"
  },
  "kernelspec": {
   "display_name": "Python 3.10.4 64-bit (windows store)",
   "language": "python",
   "name": "python3"
  },
  "language_info": {
   "codemirror_mode": {
    "name": "ipython",
    "version": 3
   },
   "file_extension": ".py",
   "mimetype": "text/x-python",
   "name": "python",
   "nbconvert_exporter": "python",
   "pygments_lexer": "ipython3",
   "version": "3.10.4"
  },
  "orig_nbformat": 4
 },
 "nbformat": 4,
 "nbformat_minor": 2
}
