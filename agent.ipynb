{
 "cells": [
  {
   "cell_type": "code",
   "execution_count": 1,
   "metadata": {},
   "outputs": [
    {
     "name": "stderr",
     "output_type": "stream",
     "text": [
      "C:\\Users\\majda\\AppData\\Local\\Packages\\PythonSoftwareFoundation.Python.3.10_qbz5n2kfra8p0\\LocalCache\\local-packages\\Python310\\site-packages\\tqdm\\auto.py:22: TqdmWarning: IProgress not found. Please update jupyter and ipywidgets. See https://ipywidgets.readthedocs.io/en/stable/user_install.html\n",
      "  from .autonotebook import tqdm as notebook_tqdm\n"
     ]
    }
   ],
   "source": [
    "import numpy as np\n",
    "import torch\n",
    "import torch.nn.functional as F\n",
    "import math\n",
    "from DRQN.network import ADRQN\n",
    "from DRQN.experience_replay import ExpBuffer\n",
    "from DRQN.agent import Agent\n",
    "from DRQN.epsilon_greedy_strategy import EpsilonGreedyStrategy\n",
    "from DRQN.plot import plot, get_moving_average\n",
    "device = torch.device(\"cuda\" if torch.cuda.is_available() else \"cpu\")\n",
    "%run ./env.ipynb"
   ]
  },
  {
   "cell_type": "code",
   "execution_count": 2,
   "metadata": {},
   "outputs": [],
   "source": [
    "import pandas as pd\n",
    "df = pd.DataFrame({'iteration': 0,\"epsiode_num\":0, \"reward\":0}, index=[0])\n",
    "\n"
   ]
  },
  {
   "cell_type": "code",
   "execution_count": 3,
   "metadata": {},
   "outputs": [],
   "source": [
    "def save(model, path):\n",
    "    torch.save(model.state_dict(), path)    \n",
    "\n",
    "def load(path,n_actions,state_size, embedding_size):\n",
    "    model = ADRQN(n_actions,state_size,embedding_size)\n",
    "    model.load_state_dict(torch.load(path))\n",
    "    return model   \n"
   ]
  },
  {
   "cell_type": "code",
   "execution_count": 4,
   "metadata": {},
   "outputs": [],
   "source": [
    "env = EnvManager(device)\n",
    "state_size = env.num_state_features()\n",
    "n_actions = env.num_actions_available()\n"
   ]
  },
  {
   "cell_type": "code",
   "execution_count": 5,
   "metadata": {},
   "outputs": [],
   "source": [
    "embedding_size = 16\n",
    "M_episodes = 2000\n",
    "memory_size = 1000\n",
    "sample_length = 100\n",
    "replay_buffer = ExpBuffer(memory_size, sample_length)\n",
    "batch_size = 8\n",
    "eps_start = 0.9\n",
    "eps = eps_start\n",
    "eps_end = 0.05\n",
    "eps_decay = 10\n",
    "gamma = 0.999\n",
    "learning_rate = 0.001\n",
    "blind_prob = 0\n",
    "EXPLORE = 1000\n",
    "target_update = 100  # Interval for updating the target net"
   ]
  },
  {
   "cell_type": "code",
   "execution_count": 6,
   "metadata": {},
   "outputs": [],
   "source": [
    "strategy = EpsilonGreedyStrategy(eps_start, eps_end, eps_decay)\n",
    "agent = Agent(strategy, n_actions, device)\n",
    "adrqn = ADRQN(n_actions, state_size, embedding_size).cuda()\n",
    "adrqn_target = ADRQN(n_actions, state_size, embedding_size).cuda()\n",
    "adrqn_target.load_state_dict(adrqn.state_dict())\n",
    "optimizer = torch.optim.Adam(adrqn.parameters(), lr=learning_rate)"
   ]
  },
  {
   "cell_type": "code",
   "execution_count": 7,
   "metadata": {},
   "outputs": [
    {
     "name": "stdout",
     "output_type": "stream",
     "text": [
      "0 -0.14285714285714285\n",
      "100 0.0967741935483871\n",
      "200 0.28\n",
      "300 -0.2\n",
      "400 0.5384615384615384\n",
      "500 0.25\n",
      "600 0.09090909090909091\n",
      "700 -0.1320754716981132\n",
      "800 -0.07692307692307693\n",
      "900 0.09333333333333334\n",
      "1000 0.07692307692307693\n",
      "1100 0.8888888888888888\n",
      "1200 0.9145299145299145\n",
      "1300 -0.92\n",
      "1400 1.0\n",
      "1500 -1.0\n",
      "1600 1.0\n",
      "1700 0.2222222222222222\n",
      "1800 -0.9393939393939394\n",
      "1900 0.9117647058823529\n"
     ]
    }
   ],
   "source": [
    "episode_rewards = []\n",
    "\n",
    "for episode in range(M_episodes):\n",
    "    done = False\n",
    "    hidden = None\n",
    "    last_action = 0\n",
    "    current_return = 0\n",
    "    env.reset()\n",
    "    last_observation = env.get_state()\n",
    "    episode_duration = 0\n",
    "    while not done:\n",
    "        action, hidden = agent.act(torch.tensor(last_observation).float().view(1, 1, -1).cuda(), F.one_hot(\n",
    "            torch.tensor(last_action), n_actions).view(1, 1, -1).float().cuda(), eps, adrqn, hidden=hidden)\n",
    "\n",
    "        observation, reward, done  = env.take_action(action)\n",
    "        if np.random.rand() < blind_prob:\n",
    "            # Induce partial observability\n",
    "            observation = np.zeros_like(observation)\n",
    "\n",
    "        reward = np.sign(reward)\n",
    "        current_return += reward\n",
    "        episode_duration =  episode_duration +1\n",
    "        replay_buffer.write_tuple(\n",
    "            (last_action, last_observation, action, reward, observation, done))\n",
    "\n",
    "        last_action = action\n",
    "        last_observation = observation\n",
    "\n",
    "        # Updating Networks\n",
    "        if episode > EXPLORE:\n",
    "            eps = eps_end + (eps_start - eps_end) * \\\n",
    "                math.exp((-1*(episode-EXPLORE))/eps_decay)\n",
    "\n",
    "            last_actions, last_observations, actions, rewards, observations, dones = replay_buffer.sample(\n",
    "                batch_size)\n",
    "            q_values, _ = adrqn.forward(\n",
    "                last_observations, F.one_hot(last_actions, n_actions).float())\n",
    "            q_values = torch.gather(\n",
    "                q_values, -1, actions.unsqueeze(-1)).squeeze(-1)\n",
    "            predicted_q_values, _ = adrqn_target.forward(\n",
    "                observations, F.one_hot(actions, n_actions).float())\n",
    "            target_values = rewards + \\\n",
    "                (gamma * (1 - dones.float()) *\n",
    "                 torch.max(predicted_q_values, dim=-1)[0])\n",
    "\n",
    "            # Update network parameters\n",
    "            optimizer.zero_grad()\n",
    "            loss = torch.nn.MSELoss()(q_values, target_values.detach())\n",
    "            loss.backward()\n",
    "            optimizer.step()\n",
    "            \n",
    "        if done:\n",
    "            episode_rewards.append(current_return/episode_duration)\n",
    "            new_row = pd.DataFrame({'iteration': episode,\"epsiode_num\": env.current_episode_index ,\"reward\":current_return/episode_duration}, index=[0])\n",
    "            df = pd.concat([df,new_row],ignore_index=True)\n",
    "            episode_duration = 0\n",
    "\n",
    "            break\n",
    "\n",
    "    if episode % target_update == 0:\n",
    "        print(episode,episode_rewards[-1])\n",
    "        #print(episode,get_moving_average(100,episode_rewards)[-1])\n",
    "        adrqn_target.load_state_dict(adrqn.state_dict())\n",
    "\n",
    "    \n",
    "    if get_moving_average(100, episode_rewards)[-1] >= 0.95:\n",
    "        print(episode,get_moving_average(100,episode_rewards)[-1])\n",
    "        break\n"
   ]
  },
  {
   "cell_type": "code",
   "execution_count": 8,
   "metadata": {},
   "outputs": [],
   "source": [
    "## Save the model\n",
    "save(adrqn,\"./model/model\")"
   ]
  },
  {
   "cell_type": "code",
   "execution_count": 9,
   "metadata": {},
   "outputs": [],
   "source": [
    "# Load the model\n",
    "model = load(\"./model/model\",n_actions, state_size, embedding_size)\n"
   ]
  },
  {
   "cell_type": "code",
   "execution_count": 24,
   "metadata": {},
   "outputs": [
    {
     "name": "stdout",
     "output_type": "stream",
     "text": [
      "['Special methods should have an expected number of parameters']\n",
      "['Instance and class methods should have at least one positional parameter']\n",
      "['Only defined names should be listed in \"__all__\"']\n",
      "['Instance and class methods should have at least one positional parameter']\n",
      "['Statements should be on separate lines']\n",
      "108\n"
     ]
    }
   ],
   "source": [
    "rightClassified = 0\n",
    "newDF = pd.DataFrame({\"epsiode_num\":0, \"reward\":0}, index=[0])\n",
    "\n",
    "for j in range(113):\n",
    "    env.reset(j)\n",
    "    last_observation = env.get_state()\n",
    "    episode_duration = 0\n",
    "    last_action = 0\n",
    "    current_return = 0\n",
    "    done = False\n",
    "    while not done:\n",
    "            action, hidden = agent.act(torch.tensor(last_observation).float().view(1, 1, -1).cuda(), F.one_hot(\n",
    "                torch.tensor(last_action), n_actions).view(1, 1, -1).float().cuda(), eps, adrqn, hidden=hidden)\n",
    "\n",
    "            observation, reward, done  = env.take_action(action)\n",
    "            reward = np.sign(reward)\n",
    "            current_return += reward\n",
    "            episode_duration =  episode_duration +1\n",
    "            last_action = action\n",
    "            last_observation = observation \n",
    "            if done:\n",
    "                break\n",
    "\n",
    "    acc = current_return / episode_duration\n",
    "    new_row = pd.DataFrame({\"epsiode_num\": j ,\"reward\":acc}, index=[0])\n",
    "    newDF = pd.concat([newDF,new_row],ignore_index=True)\n",
    "\n",
    "    if (acc >= 0.8):\n",
    "        rightClassified = rightClassified + 1\n",
    "    else:\n",
    "        print(env.get_episode_name())\n",
    "\n",
    "\n",
    "print(rightClassified)"
   ]
  },
  {
   "cell_type": "code",
   "execution_count": 19,
   "metadata": {},
   "outputs": [
    {
     "data": {
      "text/html": [
       "<div>\n",
       "<style scoped>\n",
       "    .dataframe tbody tr th:only-of-type {\n",
       "        vertical-align: middle;\n",
       "    }\n",
       "\n",
       "    .dataframe tbody tr th {\n",
       "        vertical-align: top;\n",
       "    }\n",
       "\n",
       "    .dataframe thead th {\n",
       "        text-align: right;\n",
       "    }\n",
       "</style>\n",
       "<table border=\"1\" class=\"dataframe\">\n",
       "  <thead>\n",
       "    <tr style=\"text-align: right;\">\n",
       "      <th></th>\n",
       "      <th>iteration</th>\n",
       "      <th>epsiode_num</th>\n",
       "      <th>reward</th>\n",
       "    </tr>\n",
       "  </thead>\n",
       "  <tbody>\n",
       "    <tr>\n",
       "      <th>0</th>\n",
       "      <td>0</td>\n",
       "      <td>0</td>\n",
       "      <td>0.000000</td>\n",
       "    </tr>\n",
       "    <tr>\n",
       "      <th>1</th>\n",
       "      <td>0</td>\n",
       "      <td>0</td>\n",
       "      <td>-0.142857</td>\n",
       "    </tr>\n",
       "    <tr>\n",
       "      <th>2</th>\n",
       "      <td>1</td>\n",
       "      <td>1</td>\n",
       "      <td>0.357143</td>\n",
       "    </tr>\n",
       "    <tr>\n",
       "      <th>3</th>\n",
       "      <td>2</td>\n",
       "      <td>2</td>\n",
       "      <td>0.111111</td>\n",
       "    </tr>\n",
       "    <tr>\n",
       "      <th>4</th>\n",
       "      <td>3</td>\n",
       "      <td>3</td>\n",
       "      <td>-0.310345</td>\n",
       "    </tr>\n",
       "    <tr>\n",
       "      <th>...</th>\n",
       "      <td>...</td>\n",
       "      <td>...</td>\n",
       "      <td>...</td>\n",
       "    </tr>\n",
       "    <tr>\n",
       "      <th>1996</th>\n",
       "      <td>1995</td>\n",
       "      <td>74</td>\n",
       "      <td>0.920000</td>\n",
       "    </tr>\n",
       "    <tr>\n",
       "      <th>1997</th>\n",
       "      <td>1996</td>\n",
       "      <td>75</td>\n",
       "      <td>0.833333</td>\n",
       "    </tr>\n",
       "    <tr>\n",
       "      <th>1998</th>\n",
       "      <td>1997</td>\n",
       "      <td>76</td>\n",
       "      <td>1.000000</td>\n",
       "    </tr>\n",
       "    <tr>\n",
       "      <th>1999</th>\n",
       "      <td>1998</td>\n",
       "      <td>77</td>\n",
       "      <td>-0.333333</td>\n",
       "    </tr>\n",
       "    <tr>\n",
       "      <th>2000</th>\n",
       "      <td>1999</td>\n",
       "      <td>78</td>\n",
       "      <td>0.969697</td>\n",
       "    </tr>\n",
       "  </tbody>\n",
       "</table>\n",
       "<p>2001 rows × 3 columns</p>\n",
       "</div>"
      ],
      "text/plain": [
       "      iteration  epsiode_num    reward\n",
       "0             0            0  0.000000\n",
       "1             0            0 -0.142857\n",
       "2             1            1  0.357143\n",
       "3             2            2  0.111111\n",
       "4             3            3 -0.310345\n",
       "...         ...          ...       ...\n",
       "1996       1995           74  0.920000\n",
       "1997       1996           75  0.833333\n",
       "1998       1997           76  1.000000\n",
       "1999       1998           77 -0.333333\n",
       "2000       1999           78  0.969697\n",
       "\n",
       "[2001 rows x 3 columns]"
      ]
     },
     "execution_count": 19,
     "metadata": {},
     "output_type": "execute_result"
    }
   ],
   "source": [
    "df"
   ]
  },
  {
   "cell_type": "code",
   "execution_count": 23,
   "metadata": {},
   "outputs": [],
   "source": [
    "df[\"iteration\"].to_csv(\"data.csv\",index=False)"
   ]
  },
  {
   "cell_type": "code",
   "execution_count": 26,
   "metadata": {},
   "outputs": [],
   "source": [
    "newDF[\"reward\"].to_csv(\"data1.csv\",index=False)"
   ]
  },
  {
   "cell_type": "code",
   "execution_count": null,
   "metadata": {},
   "outputs": [],
   "source": []
  }
 ],
 "metadata": {
  "interpreter": {
   "hash": "6dcb98b0cb66e7bb516e35d61dc361f03b9d6b6239965800e2e49f08121a080a"
  },
  "kernelspec": {
   "display_name": "Python 3.10.4 64-bit (windows store)",
   "language": "python",
   "name": "python3"
  },
  "language_info": {
   "codemirror_mode": {
    "name": "ipython",
    "version": 3
   },
   "file_extension": ".py",
   "mimetype": "text/x-python",
   "name": "python",
   "nbconvert_exporter": "python",
   "pygments_lexer": "ipython3",
   "version": "3.10.5"
  },
  "orig_nbformat": 4
 },
 "nbformat": 4,
 "nbformat_minor": 2
}
