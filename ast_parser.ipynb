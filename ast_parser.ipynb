{
 "cells": [
  {
   "cell_type": "code",
   "execution_count": null,
   "metadata": {},
   "outputs": [],
   "source": [
    "import ast\n",
    "\n",
    "def node2state(node, info, level):\n",
    "    info[\"level\"] = level\n",
    "    if isinstance(node, ast.AST):\n",
    "        for name, val in ast.iter_fields(node):\n",
    "            if \"ast\" in str(val):\n",
    "                info[name] = None\n",
    "            else:\n",
    "                info[name] = val\n",
    "        for name, val in ast.iter_fields(node):\n",
    "            if name not in ('left', 'right'):\n",
    "                node2state(val, info, level)\n",
    "        info[\"type\"] = node.__class__.__name__\n",
    "\n",
    "\n",
    "def traverse(node, states, level=0):\n",
    "    info = {}\n",
    "    node2state(node, info, level)\n",
    "    states.append(info)\n",
    "    for field, value in ast.iter_fields(node):\n",
    "        if isinstance(value, list):\n",
    "            for item in value:\n",
    "                if isinstance(item, ast.AST):\n",
    "                    traverse(item, states, level=level+1)\n",
    "        elif isinstance(value, ast.AST):\n",
    "            traverse(value, states, level=level+1)\n",
    "\n",
    "\n",
    "def parse(code):\n",
    "    return ast.parse(code)\n",
    "\n",
    "def classify_state(states, label):\n",
    "    for state in states:\n",
    "        state[\"label\"] = label\n",
    "\n",
    "\n",
    "def code2states(code,label):\n",
    "    states = []\n",
    "    try:\n",
    "        tree = parse(code)\n",
    "    except:\n",
    "        print(code)\n",
    "    traverse(tree, states)\n",
    "    classify_state(states, label)\n",
    "    return states\n",
    "\n",
    "def create_states(code,labels):\n",
    "    states = []\n",
    "    code_parts = code.split(\"#\\r\\n\")\n",
    "    label_parts = labels.split(\",\")\n",
    "    for i in range(len(code_parts)):\n",
    "        s = code2states(code_parts[i],label_parts[i])\n",
    "        states = [*states,*s]\n",
    "    return states\n",
    "\n",
    "\n"
   ]
  },
  {
   "cell_type": "code",
   "execution_count": null,
   "metadata": {},
   "outputs": [],
   "source": []
  },
  {
   "cell_type": "code",
   "execution_count": null,
   "metadata": {},
   "outputs": [],
   "source": [
    "create_states(\"class MyClass:\\r\\n    while True:\\r\\n        return False #Noncompliant\",\"GOOD\")"
   ]
  },
  {
   "cell_type": "code",
   "execution_count": null,
   "metadata": {},
   "outputs": [],
   "source": []
  }
 ],
 "metadata": {
  "interpreter": {
   "hash": "6dcb98b0cb66e7bb516e35d61dc361f03b9d6b6239965800e2e49f08121a080a"
  },
  "kernelspec": {
   "display_name": "Python 3.10.4 64-bit (windows store)",
   "language": "python",
   "name": "python3"
  },
  "language_info": {
   "codemirror_mode": {
    "name": "ipython",
    "version": 3
   },
   "file_extension": ".py",
   "mimetype": "text/x-python",
   "name": "python",
   "nbconvert_exporter": "python",
   "pygments_lexer": "ipython3",
   "version": "3.10.5"
  },
  "orig_nbformat": 4
 },
 "nbformat": 4,
 "nbformat_minor": 2
}
