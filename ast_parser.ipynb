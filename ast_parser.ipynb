{
 "cells": [
  {
   "cell_type": "code",
   "execution_count": null,
   "metadata": {},
   "outputs": [],
   "source": [
    "import ast\n",
    "\n",
    "\n",
    "def str_node(node, info, level):\n",
    "    info[\"level\"] = level\n",
    "    if isinstance(node, ast.AST):\n",
    "        for name, val in ast.iter_fields(node):\n",
    "                if \"ast\" in str(val):\n",
    "                    info[name] = None\n",
    "                else:\n",
    "                    info[name] = val\n",
    "        fields = [(name, str_node(val,info,level)) for name, val in ast.iter_fields(node) if name not in ('left', 'right')]\n",
    "        info[\"type\"] = node.__class__.__name__\n",
    "        #print(info)\n",
    "        rv = '%s(%s' % (node.__class__.__name__, ', '.join('%s=%s' % field for field in fields))\n",
    "        return rv + ')'\n",
    "    else:\n",
    "        #print(repr(node))\n",
    "        return repr(node)\n",
    "\n",
    "def ast_visit(node, state_types,level=0):\n",
    "    #print('  ' + str(level)  + str_node(node,{},level) )\n",
    "    info = {}\n",
    "    str_node(node,info, level )\n",
    "    print(info)\n",
    "    \n",
    "    for field, value in ast.iter_fields(node):\n",
    "        #print(field)\n",
    "        if isinstance(value, list):\n",
    "            for item in value:\n",
    "                if isinstance(item, ast.AST):\n",
    "                    ast_visit(item,state_types, level=level+1)\n",
    "        elif isinstance(value, ast.AST):\n",
    "            ast_visit(value,state_types, level=level+1)\n",
    "\n",
    "\n",
    "state_types = []\n",
    "with open(\"data/ast_example.py\") as f:\n",
    "    code = f.read()\n",
    "    ast_visit(ast.parse(code),state_types)"
   ]
  },
  {
   "cell_type": "code",
   "execution_count": null,
   "metadata": {},
   "outputs": [],
   "source": []
  }
 ],
 "metadata": {
  "interpreter": {
   "hash": "6dcb98b0cb66e7bb516e35d61dc361f03b9d6b6239965800e2e49f08121a080a"
  },
  "kernelspec": {
   "display_name": "Python 3.10.4 64-bit (windows store)",
   "language": "python",
   "name": "python3"
  },
  "language_info": {
   "codemirror_mode": {
    "name": "ipython",
    "version": 3
   },
   "file_extension": ".py",
   "mimetype": "text/x-python",
   "name": "python",
   "nbconvert_exporter": "python",
   "pygments_lexer": "ipython3",
   "version": "3.10.4"
  },
  "orig_nbformat": 4
 },
 "nbformat": 4,
 "nbformat_minor": 2
}
