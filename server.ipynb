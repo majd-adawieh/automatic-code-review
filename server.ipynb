{
 "cells": [
  {
   "cell_type": "code",
   "execution_count": 1,
   "metadata": {},
   "outputs": [
    {
     "name": "stdout",
     "output_type": "stream",
     "text": [
      " * Serving Flask app '__main__' (lazy loading)\n",
      " * Environment: production\n",
      "\u001b[31m   WARNING: This is a development server. Do not use it in a production deployment.\u001b[0m\n",
      "\u001b[2m   Use a production WSGI server instead.\u001b[0m\n",
      " * Debug mode: off\n"
     ]
    },
    {
     "name": "stderr",
     "output_type": "stream",
     "text": [
      " * Running on http://127.0.0.1:5000 (Press CTRL+C to quit)\n",
      "127.0.0.1 - - [07/Jun/2022 19:36:05] \"GET / HTTP/1.1\" 200 -\n",
      "127.0.0.1 - - [07/Jun/2022 19:36:29] \"POST / HTTP/1.1\" 302 -\n",
      "127.0.0.1 - - [07/Jun/2022 19:36:29] \"GET / HTTP/1.1\" 200 -\n",
      "127.0.0.1 - - [07/Jun/2022 19:37:59] \"POST / HTTP/1.1\" 302 -\n",
      "127.0.0.1 - - [07/Jun/2022 19:37:59] \"GET / HTTP/1.1\" 200 -\n",
      "127.0.0.1 - - [07/Jun/2022 19:50:15] \"POST / HTTP/1.1\" 302 -\n",
      "127.0.0.1 - - [07/Jun/2022 19:50:15] \"GET / HTTP/1.1\" 200 -\n"
     ]
    }
   ],
   "source": [
    "from flask import Flask, render_template, request, redirect\n",
    "import json\n",
    "\n",
    "app = Flask(__name__)\n",
    "\n",
    "def write_json(new_data, filename='./data/data.json'):\n",
    "    with open(filename,'r+') as file:\n",
    "          # First we load existing data into a dict.\n",
    "        file_data = json.load(file)\n",
    "        # Join new_data with file_data inside emp_details\n",
    "        file_data.append(new_data)\n",
    "        # Sets file's current position at offset.\n",
    "        file.seek(0)\n",
    "        # convert back to json.\n",
    "        json.dump(file_data, file, indent = 4)\n",
    "\n",
    "@app.route('/', methods=['POST'])\n",
    "def handle_data():\n",
    "    code = request.form[\"code\"]\n",
    "    comment = request.form[\"comment\"]\n",
    "    critical_positions = request.form[\"critical_positions\"]\n",
    "    labels = request.form[\"labels\"]\n",
    "    \n",
    "    new_data = {\n",
    "        \"code\":code,\n",
    "        \"comment\": comment,\n",
    "        \"critical_positions\" : critical_positions.split(\",\"),\n",
    "        \"labels\": labels.split(\",\")\n",
    "    }\n",
    "    write_json(new_data)\n",
    "    return redirect(\"/\")\n",
    "\n",
    "@app.route('/')\n",
    "def home():\n",
    "   return render_template('./index.html')\n",
    "if __name__ == '__main__':\n",
    "   app.run()"
   ]
  },
  {
   "cell_type": "code",
   "execution_count": null,
   "metadata": {},
   "outputs": [],
   "source": []
  },
  {
   "cell_type": "code",
   "execution_count": null,
   "metadata": {},
   "outputs": [],
   "source": []
  }
 ],
 "metadata": {
  "interpreter": {
   "hash": "6dcb98b0cb66e7bb516e35d61dc361f03b9d6b6239965800e2e49f08121a080a"
  },
  "kernelspec": {
   "display_name": "Python 3.10.4 64-bit (windows store)",
   "language": "python",
   "name": "python3"
  },
  "language_info": {
   "codemirror_mode": {
    "name": "ipython",
    "version": 3
   },
   "file_extension": ".py",
   "mimetype": "text/x-python",
   "name": "python",
   "nbconvert_exporter": "python",
   "pygments_lexer": "ipython3",
   "version": "3.10.4"
  },
  "orig_nbformat": 4
 },
 "nbformat": 4,
 "nbformat_minor": 2
}
