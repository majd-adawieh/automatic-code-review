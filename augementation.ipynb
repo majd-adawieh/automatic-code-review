{
 "cells": [
  {
   "cell_type": "code",
   "execution_count": 21,
   "metadata": {},
   "outputs": [],
   "source": [
    "import pandas as pd\n",
    "import json\n",
    "episodes = pd.read_json(\"./data/Experiment1.json\")"
   ]
  },
  {
   "cell_type": "code",
   "execution_count": 22,
   "metadata": {},
   "outputs": [],
   "source": [
    "def write_json(new_data, filename='./data/Experiment2.json'):\n",
    "    with open(filename,'r+') as file:\n",
    "          # First we load existing data into a dict.\n",
    "        file_data = json.load(file)\n",
    "        # Join new_data with file_data inside emp_details\n",
    "        file_data.append(new_data)\n",
    "        # Sets file's current position at offset.\n",
    "        file.seek(0)\n",
    "        # convert back to json.\n",
    "        json.dump(file_data, file, indent = 4)"
   ]
  },
  {
   "cell_type": "code",
   "execution_count": 15,
   "metadata": {},
   "outputs": [],
   "source": [
    "y = '''\n",
    "def test():\n",
    "    pass\n",
    "'''\n",
    "\n",
    "for index, episode in episodes.iterrows():\n",
    "    episode[\"code\"] = \"print('hallo world')\\n\"+ episode[\"code\"] + \"\\nprint('hallo world')\"\n",
    "    episode[\"code\"] =  y + episode[\"code\"] + y\n",
    "    code = episode[\"code\"]\n",
    "    comment = episode[\"comment\"]\n",
    "    label = episode[\"label\"]\n",
    "    \n",
    "    new_data = {\n",
    "        \"code\":code,\n",
    "        \"comment\": comment,\n",
    "        \"label\": label\n",
    "    }\n",
    "    write_json(new_data)\n",
    "\n"
   ]
  },
  {
   "cell_type": "code",
   "execution_count": null,
   "metadata": {},
   "outputs": [],
   "source": []
  }
 ],
 "metadata": {
  "kernelspec": {
   "display_name": "Python 3.10.5 64-bit (windows store)",
   "language": "python",
   "name": "python3"
  },
  "language_info": {
   "codemirror_mode": {
    "name": "ipython",
    "version": 3
   },
   "file_extension": ".py",
   "mimetype": "text/x-python",
   "name": "python",
   "nbconvert_exporter": "python",
   "pygments_lexer": "ipython3",
   "version": "3.10.5"
  },
  "orig_nbformat": 4,
  "vscode": {
   "interpreter": {
    "hash": "6dcb98b0cb66e7bb516e35d61dc361f03b9d6b6239965800e2e49f08121a080a"
   }
  }
 },
 "nbformat": 4,
 "nbformat_minor": 2
}
